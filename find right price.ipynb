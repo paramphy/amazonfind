{
  "nbformat": 4,
  "nbformat_minor": 0,
  "metadata": {
    "colab": {
      "name": "Untitled2.ipynb",
      "version": "0.3.2",
      "provenance": [],
      "include_colab_link": true
    },
    "kernelspec": {
      "name": "python3",
      "display_name": "Python 3"
    }
  },
  "cells": [
    {
      "cell_type": "markdown",
      "metadata": {
        "id": "view-in-github",
        "colab_type": "text"
      },
      "source": [
        "<a href=\"https://colab.research.google.com/github/paramphy/amazonfind/blob/master/find%20right%20price.ipynb\" target=\"_parent\"><img src=\"https://colab.research.google.com/assets/colab-badge.svg\" alt=\"Open In Colab\"/></a>"
      ]
    },
    {
      "cell_type": "code",
      "metadata": {
        "id": "DRdyBnzzSfNl",
        "colab_type": "code",
        "colab": {
          "base_uri": "https://localhost:8080/",
          "height": 146
        },
        "outputId": "0f64b522-4841-4a05-cc7c-6373924021c1"
      },
      "source": [
        "pip install requests bs4"
      ],
      "execution_count": 1,
      "outputs": [
        {
          "output_type": "stream",
          "text": [
            "Requirement already satisfied: requests in /usr/local/lib/python3.6/dist-packages (2.21.0)\n",
            "Requirement already satisfied: bs4 in /usr/local/lib/python3.6/dist-packages (0.0.1)\n",
            "Requirement already satisfied: idna<2.9,>=2.5 in /usr/local/lib/python3.6/dist-packages (from requests) (2.8)\n",
            "Requirement already satisfied: certifi>=2017.4.17 in /usr/local/lib/python3.6/dist-packages (from requests) (2019.6.16)\n",
            "Requirement already satisfied: chardet<3.1.0,>=3.0.2 in /usr/local/lib/python3.6/dist-packages (from requests) (3.0.4)\n",
            "Requirement already satisfied: urllib3<1.25,>=1.21.1 in /usr/local/lib/python3.6/dist-packages (from requests) (1.24.3)\n",
            "Requirement already satisfied: beautifulsoup4 in /usr/local/lib/python3.6/dist-packages (from bs4) (4.6.3)\n"
          ],
          "name": "stdout"
        }
      ]
    },
    {
      "cell_type": "code",
      "metadata": {
        "id": "u5m5aIM2SgJ2",
        "colab_type": "code",
        "colab": {
          "base_uri": "https://localhost:8080/",
          "height": 301
        },
        "outputId": "f41f0789-0d8d-4e4b-9fac-d3e7c023710c"
      },
      "source": [
        "import requests\n",
        "from bs4 import BeautifulSoup\n",
        "import smtplib\n",
        "import time\n",
        "import locale\n",
        "\n",
        "link = 'https://www.amazon.in/Philips-Trimmer-Cordless-QT4001-15/dp/B00L8PEEAI/ref=lp_16269137031_1_1?s=hpc&ie=UTF8&qid=1566023806&sr=1-1'\n",
        "\n",
        "headers = {\"User-Agent\": 'Mozilla/5.0 (Windows NT 10.0; Win64; x64; rv:68.0) Gecko/20100101 Firefox/68.0'}\n",
        "#print(soup.prettify())\n",
        "\n",
        "def check_price():\n",
        "    def get_title(s,url):\n",
        "        s.headers['User-Agent'] = 'Mozilla/5.0'\n",
        "        response = s.get(url)\n",
        "        soup = BeautifulSoup(response.text,\"html.parser\")\n",
        "        return soup.find_all(id=\"productTitle\")\n",
        "\n",
        "    if __name__ == '__main__':    \n",
        "        with requests.Session() as s:\n",
        "            for title in get_title(s,link):\n",
        "                print(title.text.strip())\n",
        "\n",
        "\n",
        "    def get_price(s,url):\n",
        "        s.headers['User-Agent'] = 'Mozilla/5.0'\n",
        "        response = s.get(url)\n",
        "        soup = BeautifulSoup(response.text,\"html.parser\")\n",
        "        return soup.find_all(id=\"priceblock_ourprice\")\n",
        "    \n",
        "\n",
        "    if __name__ == '__main__':    \n",
        "        with requests.Session() as s:\n",
        "            for price in get_price(s,link):\n",
        "                print(f'{price.text}\\n')\n",
        "                locale.setlocale(locale.LC_ALL, 'en_US.UTF-8')\n",
        "                converted_price = locale.atof(price.text[2:12])\n",
        "                print(converted_price)\n",
        "\n",
        "    #def get_shipping(s,url):\n",
        "        #s.headers['User-Agent'] = 'Mozilla/5.0'\n",
        "        #response = s.get(url)\n",
        "        #soup = BeautifulSoup(response.text,\"html.parser\")\n",
        "        #return soup.find_all(id=\"ourprice_shippingmessage\")\n",
        "    \n",
        "\n",
        "    #if __name__ == '__main__':    \n",
        "        #with requests.Session() as s:\n",
        "            #for shipping in get_shipping(s,link):\n",
        "                #print(f'{shipping.text.strip()}\\n')\n",
        "                #converted_shipping = float(shipping.text[100])\n",
        "                #print(converted_shipping)\n",
        "\n",
        "    if(converted_price < 2000):\n",
        "        send_mail()     \n",
        "\n",
        "def send_mail():\n",
        "    server = smtplib.SMTP('smtp.gmail.com', 587)\n",
        "    server.ehlo()\n",
        "    server.starttls()\n",
        "    server.ehlo()\n",
        "    server.login('parameshchandra28@gmail.com', 'bjolwoworupketvl')\n",
        "\n",
        "    subject = 'Price is under 1000'\n",
        "    body = 'https://www.amazon.in/Philips-Trimmer-Cordless-QT4001-15/dp/B00L8PEEAI/ref=lp_16269137031_1_1?s=hpc&ie=UTF8&qid=1566023806&sr=1-1'\n",
        "    msg = f\"Subject: {subject}\\n\\n{body}\"\n",
        "\n",
        "    server.sendmail(\n",
        "        'parameshchandra28@gmail.com',\n",
        "        'parameshchandra.rs@visva-bharati.ac.in',\n",
        "        msg\n",
        "    )\n",
        "    print('HEY EMAIL HAS BEEN SENT!')\n",
        "\n",
        "    server.quit()\n",
        "\n",
        "\n",
        "while(True):\n",
        "    check_price()\n",
        "    time.sleep(60*60*24)"
      ],
      "execution_count": 2,
      "outputs": [
        {
          "output_type": "stream",
          "text": [
            "Philips QT4001/15 cordless rechargeable Beard Trimmer - 10 length settings\n",
            "₹ 1,197.00\n",
            "\n",
            "1197.0\n",
            "HEY EMAIL HAS BEEN SENT!\n"
          ],
          "name": "stdout"
        },
        {
          "output_type": "error",
          "ename": "KeyboardInterrupt",
          "evalue": "ignored",
          "traceback": [
            "\u001b[0;31m---------------------------------------------------------------------------\u001b[0m",
            "\u001b[0;31mKeyboardInterrupt\u001b[0m                         Traceback (most recent call last)",
            "\u001b[0;32m<ipython-input-2-c8d969260e99>\u001b[0m in \u001b[0;36m<module>\u001b[0;34m()\u001b[0m\n\u001b[1;32m     78\u001b[0m \u001b[0;32mwhile\u001b[0m\u001b[0;34m(\u001b[0m\u001b[0;32mTrue\u001b[0m\u001b[0;34m)\u001b[0m\u001b[0;34m:\u001b[0m\u001b[0;34m\u001b[0m\u001b[0;34m\u001b[0m\u001b[0m\n\u001b[1;32m     79\u001b[0m     \u001b[0mcheck_price\u001b[0m\u001b[0;34m(\u001b[0m\u001b[0;34m)\u001b[0m\u001b[0;34m\u001b[0m\u001b[0;34m\u001b[0m\u001b[0m\n\u001b[0;32m---> 80\u001b[0;31m     \u001b[0mtime\u001b[0m\u001b[0;34m.\u001b[0m\u001b[0msleep\u001b[0m\u001b[0;34m(\u001b[0m\u001b[0;36m60\u001b[0m\u001b[0;34m*\u001b[0m\u001b[0;36m60\u001b[0m\u001b[0;34m*\u001b[0m\u001b[0;36m24\u001b[0m\u001b[0;34m)\u001b[0m\u001b[0;34m\u001b[0m\u001b[0;34m\u001b[0m\u001b[0m\n\u001b[0m",
            "\u001b[0;31mKeyboardInterrupt\u001b[0m: "
          ]
        }
      ]
    }
  ]
}